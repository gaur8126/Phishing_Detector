{
 "cells": [
  {
   "cell_type": "code",
   "execution_count": 1,
   "id": "1cbc68df",
   "metadata": {},
   "outputs": [],
   "source": [
    "import os \n",
    "os.chdir(\"../\")"
   ]
  },
  {
   "cell_type": "code",
   "execution_count": 2,
   "id": "e394fdb3",
   "metadata": {},
   "outputs": [],
   "source": [
    "from dataclasses import dataclass\n",
    "from pathlib import Path\n",
    "@dataclass\n",
    "class DataTransformationConfig:\n",
    "    root_dir : Path\n",
    "    data_path : Path"
   ]
  },
  {
   "cell_type": "code",
   "execution_count": 3,
   "id": "7b4a8d03",
   "metadata": {},
   "outputs": [],
   "source": [
    "from phishing.constants import *\n",
    "from phishing.utils.common import read_yaml,create_directories"
   ]
  },
  {
   "cell_type": "code",
   "execution_count": 4,
   "id": "19daabf8",
   "metadata": {},
   "outputs": [],
   "source": [
    "class ConfigurationManager:\n",
    "    def __init__(self,\n",
    "                 config_filepath = CONFIG_FILE_PATH,\n",
    "                 params_filepath = PARAMS_FILE_PATH,\n",
    "                 schema_filepath = SCHEMA_FILE_PATH):\n",
    "        self.config  = read_yaml(config_filepath)\n",
    "        self.params = read_yaml(params_filepath)\n",
    "        self.schema = read_yaml(schema_filepath)\n",
    "\n",
    "        create_directories([self.config.artifacts_root])\n",
    "\n",
    "    def get_data_transformation_config(self) -> DataTransformationConfig:\n",
    "        config = self.config.data_transformation\n",
    "        create_directories([config.root_dir])\n",
    "        data_transforamtion_config = DataTransformationConfig(\n",
    "            root_dir=config.root_dir,\n",
    "            data_path = config.data_path\n",
    "        )\n",
    "\n",
    "        return data_transforamtion_config"
   ]
  },
  {
   "cell_type": "code",
   "execution_count": 5,
   "id": "9ad16208",
   "metadata": {},
   "outputs": [],
   "source": [
    "import os\n",
    "from phishing.logging.custom_logger import logging\n",
    "from sklearn.model_selection import train_test_split\n",
    "import pandas as pd \n",
    "\n",
    "class DataTransformation:\n",
    "    def __init__(self,config:DataTransformationConfig):\n",
    "        self.config = config \n",
    "\n",
    "    def train_test_spliting(self):\n",
    "        data = pd.read_csv(self.config.data_path)\n",
    "\n",
    "        train,test = train_test_split(data)\n",
    "\n",
    "        train.to_csv(os.path.join(self.config.root_dir,\"train.csv\"),index = False)\n",
    "        test.to_csv(os.path.join(self.config.root_dir,\"test.csv\"),index = False)\n",
    "\n",
    "        logging.info('Splited data training and test sets')\n",
    "        logging.info(train.shape)\n",
    "        logging.info(test.shape)\n",
    "\n",
    "        print(train.shape)\n",
    "        print(test.shape)"
   ]
  },
  {
   "cell_type": "code",
   "execution_count": 6,
   "id": "2eddb53c",
   "metadata": {},
   "outputs": [
    {
     "name": "stdout",
     "output_type": "stream",
     "text": [
      "(8291, 31)\n",
      "(2764, 31)\n"
     ]
    }
   ],
   "source": [
    "try:\n",
    "    config  = ConfigurationManager()\n",
    "    data_transformation_config = config.get_data_transformation_config()\n",
    "    data_transformation = DataTransformation(config=data_transformation_config)\n",
    "    data_transformation.train_test_spliting()\n",
    "\n",
    "except Exception as e:\n",
    "    raise e "
   ]
  }
 ],
 "metadata": {
  "kernelspec": {
   "display_name": "Python 3",
   "language": "python",
   "name": "python3"
  },
  "language_info": {
   "codemirror_mode": {
    "name": "ipython",
    "version": 3
   },
   "file_extension": ".py",
   "mimetype": "text/x-python",
   "name": "python",
   "nbconvert_exporter": "python",
   "pygments_lexer": "ipython3",
   "version": "3.10.0"
  }
 },
 "nbformat": 4,
 "nbformat_minor": 5
}
