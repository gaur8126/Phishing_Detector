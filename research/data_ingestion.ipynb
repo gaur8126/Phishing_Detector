{
 "cells": [
  {
   "cell_type": "code",
   "execution_count": 1,
   "id": "10cbea24",
   "metadata": {},
   "outputs": [],
   "source": [
    "import os "
   ]
  },
  {
   "cell_type": "code",
   "execution_count": 2,
   "id": "6a4b019f",
   "metadata": {},
   "outputs": [
    {
     "data": {
      "text/plain": [
       "'d:\\\\Projects\\\\Phishing_Detector'"
      ]
     },
     "execution_count": 2,
     "metadata": {},
     "output_type": "execute_result"
    }
   ],
   "source": [
    "os.chdir(\"../\")\n",
    "%pwd"
   ]
  },
  {
   "cell_type": "code",
   "execution_count": 10,
   "id": "caeb1fc2",
   "metadata": {},
   "outputs": [],
   "source": [
    "from dataclasses import dataclass\n",
    "from pathlib import Path\n",
    "\n",
    "@dataclass\n",
    "class DataIngestionConfig:\n",
    "    root_dir: Path\n",
    "    feature_store_file_path : Path\n",
    "    training_file_path : Path\n",
    "    testing_file_path : Path"
   ]
  },
  {
   "cell_type": "code",
   "execution_count": 11,
   "id": "f2282996",
   "metadata": {},
   "outputs": [],
   "source": [
    "from phishing.constants import *\n",
    "from phishing.utils.common import read_yaml,create_directories\n",
    "\n",
    "class ConfigurationManager:\n",
    "    def __init__(self,\n",
    "                 config_filepath = CONFIG_FILE_PATH,\n",
    "                 params_filepath = PARAMS_FILE_PATH,\n",
    "                 schema_filepath = SCHEMA_FILE_PATH):\n",
    "        self.config = read_yaml(config_filepath)\n",
    "        self.params = read_yaml(params_filepath)\n",
    "        self.schema = read_yaml(schema_filepath)\n",
    "\n",
    "        create_directories([self.config.artifacts_root])\n",
    "\n",
    "    def get_data_ingestion_config(self)-> DataIngestionConfig:\n",
    "        config = self.config.data_ingestion\n",
    "        create_directories([config.root_dir])\n",
    "\n",
    "        data_ingestion_config = DataIngestionConfig(\n",
    "            root_dir=config.root_dir,\n",
    "            feature_store_file_path= config.feature_store_file_path,\n",
    "            training_file_path=config.training_file_path,\n",
    "            testing_file_path=config.testing_file_path\n",
    "        \n",
    "        )\n",
    "\n",
    "        return data_ingestion_config\n",
    "        "
   ]
  },
  {
   "cell_type": "code",
   "execution_count": 12,
   "id": "412d50e6",
   "metadata": {},
   "outputs": [],
   "source": [
    "from phishing.logging.custom_logger import logging\n",
    "from phishing.exception.exception import PhishingException"
   ]
  },
  {
   "cell_type": "code",
   "execution_count": 13,
   "id": "4b08b1c9",
   "metadata": {},
   "outputs": [],
   "source": [
    "import os \n",
    "from phishing.logging.custom_logger import logging\n",
    "from phishing.exception.exception import PhishingException\n",
    "import os\n",
    "import sys\n",
    "import numpy as np\n",
    "import pandas as pd\n",
    "import pymongo\n",
    "from typing import List\n",
    "from sklearn.model_selection import train_test_split\n",
    "from dotenv import load_dotenv\n",
    "load_dotenv()\n",
    "\n",
    "MONGO_DB_URL=os.getenv(\"MONGO_DB_URL\")\n",
    "\n",
    "\n",
    "class DataIngestion:\n",
    "    def __init__(self,data_ingestion_config:DataIngestionConfig):\n",
    "        try:\n",
    "            self.data_ingestion_config=data_ingestion_config\n",
    "        except Exception as e:\n",
    "            raise PhishingException(e,sys)\n",
    "        \n",
    "    def export_collection_as_dataframe(self):\n",
    "        \"\"\"\n",
    "        Read data from mongodb\n",
    "        \"\"\"\n",
    "        try:\n",
    "            database_name= \"MYDATABASE\"\n",
    "            collection_name=\"phishing_data\"\n",
    "            self.mongo_client=pymongo.MongoClient(MONGO_DB_URL)\n",
    "            collection=self.mongo_client[database_name][collection_name]\n",
    "\n",
    "            df=pd.DataFrame(list(collection.find()))\n",
    "            if \"_id\" in df.columns.to_list():\n",
    "                df=df.drop(columns=[\"_id\"],axis=1)\n",
    "            \n",
    "            df.replace({\"na\":np.nan},inplace=True)\n",
    "            return df\n",
    "        except Exception as e:\n",
    "            raise PhishingException(e,sys)\n",
    "        \n",
    "    def export_data_into_feature_store(self,dataframe: pd.DataFrame):\n",
    "        try:\n",
    "            feature_store_file_path=self.data_ingestion_config.feature_store_file_path\n",
    "            #creating folder\n",
    "            dir_path = os.path.dirname(feature_store_file_path)\n",
    "            os.makedirs(dir_path,exist_ok=True)\n",
    "            dataframe.to_csv(feature_store_file_path,index=False,header=True)\n",
    "            return dataframe\n",
    "            \n",
    "        except Exception as e:\n",
    "            raise PhishingException(e,sys)\n",
    "        \n",
    "    def split_data_as_train_test(self,dataframe: pd.DataFrame):\n",
    "        try:\n",
    "            train_set, test_set = train_test_split(\n",
    "                dataframe, test_size=0.2\n",
    "            )\n",
    "            logging.info(\"Performed train test split on the dataframe\")\n",
    "\n",
    "            logging.info(\n",
    "                \"Exited split_data_as_train_test method of Data_Ingestion class\"\n",
    "            )\n",
    "            \n",
    "            dir_path = os.path.dirname(self.data_ingestion_config.training_file_path)\n",
    "            \n",
    "            os.makedirs(dir_path, exist_ok=True)\n",
    "            \n",
    "            logging.info(f\"Exporting train and test file path.\")\n",
    "            \n",
    "            train_set.to_csv(\n",
    "                self.data_ingestion_config.training_file_path, index=False, header=True\n",
    "            )\n",
    "\n",
    "            test_set.to_csv(\n",
    "                self.data_ingestion_config.testing_file_path, index=False, header=True\n",
    "            )\n",
    "            logging.info(f\"Exported train and test file path.\")\n",
    "\n",
    "            \n",
    "        except Exception as e:\n",
    "            raise PhishingException(e,sys)\n",
    "        \n",
    "        \n",
    "    def initiate_data_ingestion(self):\n",
    "        try:\n",
    "            dataframe=self.export_collection_as_dataframe()\n",
    "            dataframe=self.export_data_into_feature_store(dataframe)\n",
    "            self.split_data_as_train_test(dataframe)\n",
    "            \n",
    "\n",
    "        except Exception as e:\n",
    "            raise PhishingException(e,sys)\n",
    "        \n",
    "\n"
   ]
  },
  {
   "cell_type": "code",
   "execution_count": 15,
   "id": "8fd1a0f2",
   "metadata": {},
   "outputs": [],
   "source": [
    "config = ConfigurationManager()\n",
    "data_ingestion_config = config.get_data_ingestion_config()\n",
    "data_ingestion = DataIngestion(data_ingestion_config)\n",
    "data_ingestion.initiate_data_ingestion()"
   ]
  },
  {
   "cell_type": "code",
   "execution_count": null,
   "id": "71159b7d",
   "metadata": {},
   "outputs": [],
   "source": []
  }
 ],
 "metadata": {
  "kernelspec": {
   "display_name": "Python 3",
   "language": "python",
   "name": "python3"
  },
  "language_info": {
   "codemirror_mode": {
    "name": "ipython",
    "version": 3
   },
   "file_extension": ".py",
   "mimetype": "text/x-python",
   "name": "python",
   "nbconvert_exporter": "python",
   "pygments_lexer": "ipython3",
   "version": "3.10.0"
  }
 },
 "nbformat": 4,
 "nbformat_minor": 5
}
