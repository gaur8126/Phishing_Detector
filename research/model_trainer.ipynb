{
 "cells": [
  {
   "cell_type": "code",
   "execution_count": 1,
   "metadata": {},
   "outputs": [
    {
     "data": {
      "text/plain": [
       "'d:\\\\Projects\\\\Phishing_Detector'"
      ]
     },
     "execution_count": 1,
     "metadata": {},
     "output_type": "execute_result"
    }
   ],
   "source": [
    "import os \n",
    "os.chdir(\"../\")\n",
    "%pwd"
   ]
  },
  {
   "cell_type": "code",
   "execution_count": 3,
   "metadata": {},
   "outputs": [],
   "source": [
    "import pandas as pd \n",
    "import numpy as np \n",
    "import matplotlib.pyplot as plt \n",
    "import seaborn as sns \n",
    "import warnings \n",
    "warnings.filterwarnings('ignore')\n",
    "%matplotlib inline\n",
    "from sklearn.preprocessing import StandardScaler\n",
    "from sklearn.model_selection import train_test_split,GridSearchCV, RandomizedSearchCV\n",
    "from sklearn.tree import DecisionTreeClassifier\n",
    "from sklearn.linear_model import LogisticRegression\n",
    "from sklearn.svm import SVC\n",
    "from sklearn.naive_bayes import GaussianNB\n",
    "from sklearn.ensemble import (RandomForestClassifier,AdaBoostClassifier,GradientBoostingClassifier,)\n",
    "from xgboost import XGBClassifier \n",
    "# from catboost import CatBoostClassifier\n",
    "from sklearn.mixture import GaussianMixture\n",
    "from sklearn.metrics import accuracy_score,classification_report,confusion_matrix\n",
    "from sklearn.pipeline import Pipeline \n",
    "from sklearn.impute import SimpleImputer\n",
    "from sklearn.compose import ColumnTransformer"
   ]
  },
  {
   "cell_type": "code",
   "execution_count": 4,
   "metadata": {},
   "outputs": [
    {
     "data": {
      "text/html": [
       "<div>\n",
       "<style scoped>\n",
       "    .dataframe tbody tr th:only-of-type {\n",
       "        vertical-align: middle;\n",
       "    }\n",
       "\n",
       "    .dataframe tbody tr th {\n",
       "        vertical-align: top;\n",
       "    }\n",
       "\n",
       "    .dataframe thead th {\n",
       "        text-align: right;\n",
       "    }\n",
       "</style>\n",
       "<table border=\"1\" class=\"dataframe\">\n",
       "  <thead>\n",
       "    <tr style=\"text-align: right;\">\n",
       "      <th></th>\n",
       "      <th>having_IP_Address</th>\n",
       "      <th>URL_Length</th>\n",
       "      <th>Shortining_Service</th>\n",
       "      <th>having_At_Symbol</th>\n",
       "      <th>double_slash_redirecting</th>\n",
       "      <th>Prefix_Suffix</th>\n",
       "      <th>having_Sub_Domain</th>\n",
       "      <th>SSLfinal_State</th>\n",
       "      <th>Domain_registeration_length</th>\n",
       "      <th>Favicon</th>\n",
       "      <th>...</th>\n",
       "      <th>popUpWidnow</th>\n",
       "      <th>Iframe</th>\n",
       "      <th>age_of_domain</th>\n",
       "      <th>DNSRecord</th>\n",
       "      <th>web_traffic</th>\n",
       "      <th>Page_Rank</th>\n",
       "      <th>Google_Index</th>\n",
       "      <th>Links_pointing_to_page</th>\n",
       "      <th>Statistical_report</th>\n",
       "      <th>Result</th>\n",
       "    </tr>\n",
       "  </thead>\n",
       "  <tbody>\n",
       "    <tr>\n",
       "      <th>0</th>\n",
       "      <td>-1</td>\n",
       "      <td>1</td>\n",
       "      <td>1</td>\n",
       "      <td>1</td>\n",
       "      <td>-1</td>\n",
       "      <td>-1</td>\n",
       "      <td>-1</td>\n",
       "      <td>-1</td>\n",
       "      <td>-1</td>\n",
       "      <td>1</td>\n",
       "      <td>...</td>\n",
       "      <td>1</td>\n",
       "      <td>1</td>\n",
       "      <td>-1</td>\n",
       "      <td>-1</td>\n",
       "      <td>-1</td>\n",
       "      <td>-1</td>\n",
       "      <td>1</td>\n",
       "      <td>1</td>\n",
       "      <td>-1</td>\n",
       "      <td>-1</td>\n",
       "    </tr>\n",
       "    <tr>\n",
       "      <th>1</th>\n",
       "      <td>1</td>\n",
       "      <td>1</td>\n",
       "      <td>1</td>\n",
       "      <td>1</td>\n",
       "      <td>1</td>\n",
       "      <td>-1</td>\n",
       "      <td>0</td>\n",
       "      <td>1</td>\n",
       "      <td>-1</td>\n",
       "      <td>1</td>\n",
       "      <td>...</td>\n",
       "      <td>1</td>\n",
       "      <td>1</td>\n",
       "      <td>-1</td>\n",
       "      <td>-1</td>\n",
       "      <td>0</td>\n",
       "      <td>-1</td>\n",
       "      <td>1</td>\n",
       "      <td>1</td>\n",
       "      <td>1</td>\n",
       "      <td>-1</td>\n",
       "    </tr>\n",
       "    <tr>\n",
       "      <th>2</th>\n",
       "      <td>1</td>\n",
       "      <td>0</td>\n",
       "      <td>1</td>\n",
       "      <td>1</td>\n",
       "      <td>1</td>\n",
       "      <td>-1</td>\n",
       "      <td>-1</td>\n",
       "      <td>-1</td>\n",
       "      <td>-1</td>\n",
       "      <td>1</td>\n",
       "      <td>...</td>\n",
       "      <td>1</td>\n",
       "      <td>1</td>\n",
       "      <td>1</td>\n",
       "      <td>-1</td>\n",
       "      <td>1</td>\n",
       "      <td>-1</td>\n",
       "      <td>1</td>\n",
       "      <td>0</td>\n",
       "      <td>-1</td>\n",
       "      <td>-1</td>\n",
       "    </tr>\n",
       "    <tr>\n",
       "      <th>3</th>\n",
       "      <td>1</td>\n",
       "      <td>0</td>\n",
       "      <td>1</td>\n",
       "      <td>1</td>\n",
       "      <td>1</td>\n",
       "      <td>-1</td>\n",
       "      <td>-1</td>\n",
       "      <td>-1</td>\n",
       "      <td>1</td>\n",
       "      <td>1</td>\n",
       "      <td>...</td>\n",
       "      <td>1</td>\n",
       "      <td>1</td>\n",
       "      <td>-1</td>\n",
       "      <td>-1</td>\n",
       "      <td>1</td>\n",
       "      <td>-1</td>\n",
       "      <td>1</td>\n",
       "      <td>-1</td>\n",
       "      <td>1</td>\n",
       "      <td>-1</td>\n",
       "    </tr>\n",
       "    <tr>\n",
       "      <th>4</th>\n",
       "      <td>1</td>\n",
       "      <td>0</td>\n",
       "      <td>-1</td>\n",
       "      <td>1</td>\n",
       "      <td>1</td>\n",
       "      <td>-1</td>\n",
       "      <td>1</td>\n",
       "      <td>1</td>\n",
       "      <td>-1</td>\n",
       "      <td>1</td>\n",
       "      <td>...</td>\n",
       "      <td>-1</td>\n",
       "      <td>1</td>\n",
       "      <td>-1</td>\n",
       "      <td>-1</td>\n",
       "      <td>0</td>\n",
       "      <td>-1</td>\n",
       "      <td>1</td>\n",
       "      <td>1</td>\n",
       "      <td>1</td>\n",
       "      <td>1</td>\n",
       "    </tr>\n",
       "  </tbody>\n",
       "</table>\n",
       "<p>5 rows × 31 columns</p>\n",
       "</div>"
      ],
      "text/plain": [
       "   having_IP_Address  URL_Length  Shortining_Service  having_At_Symbol  \\\n",
       "0                 -1           1                   1                 1   \n",
       "1                  1           1                   1                 1   \n",
       "2                  1           0                   1                 1   \n",
       "3                  1           0                   1                 1   \n",
       "4                  1           0                  -1                 1   \n",
       "\n",
       "   double_slash_redirecting  Prefix_Suffix  having_Sub_Domain  SSLfinal_State  \\\n",
       "0                        -1             -1                 -1              -1   \n",
       "1                         1             -1                  0               1   \n",
       "2                         1             -1                 -1              -1   \n",
       "3                         1             -1                 -1              -1   \n",
       "4                         1             -1                  1               1   \n",
       "\n",
       "   Domain_registeration_length  Favicon  ...  popUpWidnow  Iframe  \\\n",
       "0                           -1        1  ...            1       1   \n",
       "1                           -1        1  ...            1       1   \n",
       "2                           -1        1  ...            1       1   \n",
       "3                            1        1  ...            1       1   \n",
       "4                           -1        1  ...           -1       1   \n",
       "\n",
       "   age_of_domain  DNSRecord  web_traffic  Page_Rank  Google_Index  \\\n",
       "0             -1         -1           -1         -1             1   \n",
       "1             -1         -1            0         -1             1   \n",
       "2              1         -1            1         -1             1   \n",
       "3             -1         -1            1         -1             1   \n",
       "4             -1         -1            0         -1             1   \n",
       "\n",
       "   Links_pointing_to_page  Statistical_report  Result  \n",
       "0                       1                  -1      -1  \n",
       "1                       1                   1      -1  \n",
       "2                       0                  -1      -1  \n",
       "3                      -1                   1      -1  \n",
       "4                       1                   1       1  \n",
       "\n",
       "[5 rows x 31 columns]"
      ]
     },
     "execution_count": 4,
     "metadata": {},
     "output_type": "execute_result"
    }
   ],
   "source": [
    "df = pd.read_csv(\"phishing_data/NetworkData.csv\")\n",
    "df.head()"
   ]
  },
  {
   "cell_type": "code",
   "execution_count": 5,
   "metadata": {},
   "outputs": [],
   "source": [
    "X = df.drop('Result',axis=1)   # independent \n",
    "y = df['Result'].replace(-1,0)  # dependent "
   ]
  },
  {
   "cell_type": "code",
   "execution_count": 6,
   "metadata": {},
   "outputs": [],
   "source": [
    "x_train,x_test,y_train,y_test = train_test_split(X,y,test_size=0.25,random_state=42)"
   ]
  },
  {
   "cell_type": "code",
   "execution_count": 7,
   "metadata": {},
   "outputs": [],
   "source": [
    "models = {\n",
    "    'LogisticRegression': LogisticRegression(),\n",
    "    'DecisionTreeClassifier':DecisionTreeClassifier(),\n",
    "    'SVC':SVC(),\n",
    "    'GaussianNB':GaussianNB(),\n",
    "    'GaussianMixture':GaussianMixture(),\n",
    "    'RandomForestClassifier':RandomForestClassifier(),\n",
    "    'AdaBoostClassifier':AdaBoostClassifier(),\n",
    "    'GradientBoostingClassifier' : GradientBoostingClassifier(),\n",
    "    'XGBClassifier':XGBClassifier()\n",
    "\n",
    "}"
   ]
  },
  {
   "cell_type": "code",
   "execution_count": null,
   "metadata": {},
   "outputs": [],
   "source": [
    "def model_evaluation(y_test,y_pred):\n",
    "    acc_score = accuracy_score(y_test,y_pred)\n",
    "    conf_mat = confusion_matrix(y_test,y_pred)\n",
    "    class_repo = classification_report(y_test,y_pred)\n",
    "    return acc_score,conf_mat,class_repo"
   ]
  },
  {
   "cell_type": "code",
   "execution_count": 23,
   "metadata": {},
   "outputs": [],
   "source": [
    "params = {\n",
    "    'LogisticRegression' : {\n",
    "        'penalty':['l1','l1','elasticnet'],\n",
    "        'solver':['lbfgs','newton-cg','liblinear'],\n",
    "        'multi_class':['auto','ovr','multinomial']\n",
    "    },\n",
    "    'DecisionTreeClassifier':{\n",
    "        'criterion':['gini','entropy','log_loss'],\n",
    "        'splitter':['best','random'],\n",
    "        # 'max_depth':[3,5,7,9],\n",
    "        # 'max_features':['sqrt','log2']\n",
    "    },\n",
    "    'SVC':{\n",
    "        'C':[0.5,1,1.5,2],\n",
    "        'kernel':['linear','poly','rbf','sigmoid'],\n",
    "        # 'gamma':['scale','auto']\n",
    "\n",
    "    },\n",
    "    'GaussianNB':{\n",
    "\n",
    "    },\n",
    "    'GaussianMixture':{\n",
    "        # 'n_components':[3,5,7,9],\n",
    "        # 'covariance_type':['full','tied','diag','spherical'],\n",
    "        'init_params':['kmeans','k-means++','random']\n",
    "\n",
    "    },\n",
    "    'RandomForestClassifier':{\n",
    "        'n_estimators':[50,100,150,200],\n",
    "        'criterion':['gini','entropy','log_loss'],\n",
    "\n",
    "    },\n",
    "    'AdaBoostClassifier':{\n",
    "        'n_estimators':[50,100,150],\n",
    "        'learning_rate':[0.5,1,1,5]\n",
    "\n",
    "    },\n",
    "    'GradientBoostingClassifier':{\n",
    "        'loss':['log_loss', 'exponential'],\n",
    "        'criterion':['friedman_mse','squared_error']\n",
    "\n",
    "    },\n",
    "    'XGBClassifier':{\n",
    "        'eta':[0.1,0.3,0.5,0.7],\n",
    "        'gamma':[3,5,7,11]\n",
    "\n",
    "    }\n",
    "\n",
    "}"
   ]
  },
  {
   "cell_type": "code",
   "execution_count": 10,
   "metadata": {},
   "outputs": [],
   "source": [
    "def hyper_tuning(clf,param_grid,x_train,y_train):\n",
    "    cv=GridSearchCV(clf,param_grid=param_grid,verbose = 1,cv=5)\n",
    "    cv.fit(x_train,y_train)\n",
    "    best_estimator = cv.best_estimator_\n",
    "    best_params = cv.best_params_\n",
    "\n",
    "    return best_estimator,best_params"
   ]
  },
  {
   "cell_type": "markdown",
   "metadata": {},
   "source": [
    "```bash \n",
    "Without hyperparameter tuning \n",
    "```"
   ]
  },
  {
   "cell_type": "code",
   "execution_count": null,
   "metadata": {},
   "outputs": [],
   "source": [
    "def model_trainer(x_train,x_test,y_train,y_test):\n",
    "    accuracy = []\n",
    "    model_list = []\n",
    "    for name,model in models.items():\n",
    "        clf = model\n",
    "        clf.fit(x_train,y_train)\n",
    "\n",
    "        y_pred = clf.predict(x_test)\n",
    "        accu_score,conf_martix,_ = model_evaluation(y_test,y_pred)\n",
    "        print(name)\n",
    "        model_list.append(name)\n",
    "\n",
    "        print(\"Model train performance\")\n",
    "        print(\"accuracy : \",accu_score)\n",
    "        print(\"confusion matrix : \",conf_martix)\n",
    "\n",
    "        accuracy.append(accu_score)\n",
    "\n",
    "        print(\"=\"*35)\n",
    "        print(\"\\n\")\n",
    "\n",
    "    return accuracy,model_list, # feature_importance\n",
    "\n",
    "        "
   ]
  },
  {
   "cell_type": "code",
   "execution_count": 12,
   "metadata": {},
   "outputs": [
    {
     "name": "stdout",
     "output_type": "stream",
     "text": [
      "LogisticRegression\n",
      "Model train performance\n",
      "accuracy :  0.9218523878437048\n",
      "confusion matrix :  [[1069  114]\n",
      " [ 102 1479]]\n",
      "===================================\n",
      "\n",
      "\n",
      "DecisionTreeClassifier\n",
      "Model train performance\n",
      "accuracy :  0.9547756874095513\n",
      "confusion matrix :  [[1118   65]\n",
      " [  60 1521]]\n",
      "===================================\n",
      "\n",
      "\n",
      "SVC\n",
      "Model train performance\n",
      "accuracy :  0.9435600578871202\n",
      "confusion matrix :  [[1088   95]\n",
      " [  61 1520]]\n",
      "===================================\n",
      "\n",
      "\n",
      "GaussianNB\n",
      "Model train performance\n",
      "accuracy :  0.5824891461649783\n",
      "confusion matrix :  [[1181    2]\n",
      " [1152  429]]\n",
      "===================================\n",
      "\n",
      "\n"
     ]
    },
    {
     "name": "stderr",
     "output_type": "stream",
     "text": [
      "  File \"d:\\Projects\\Phishing_Detector\\venv\\lib\\site-packages\\joblib\\externals\\loky\\backend\\context.py\", line 257, in _count_physical_cores\n",
      "    cpu_info = subprocess.run(\n",
      "  File \"d:\\Projects\\Phishing_Detector\\venv\\lib\\subprocess.py\", line 501, in run\n",
      "    with Popen(*popenargs, **kwargs) as process:\n",
      "  File \"d:\\Projects\\Phishing_Detector\\venv\\lib\\subprocess.py\", line 966, in __init__\n",
      "    self._execute_child(args, executable, preexec_fn, close_fds,\n",
      "  File \"d:\\Projects\\Phishing_Detector\\venv\\lib\\subprocess.py\", line 1435, in _execute_child\n",
      "    hp, ht, pid, tid = _winapi.CreateProcess(executable, args,\n"
     ]
    },
    {
     "name": "stdout",
     "output_type": "stream",
     "text": [
      "GaussianMixture\n",
      "Model train performance\n",
      "accuracy :  0.4280028943560058\n",
      "confusion matrix :  [[1183    0]\n",
      " [1581    0]]\n",
      "===================================\n",
      "\n",
      "\n",
      "RandomForestClassifier\n",
      "Model train performance\n",
      "accuracy :  0.9670767004341534\n",
      "confusion matrix :  [[1123   60]\n",
      " [  31 1550]]\n",
      "===================================\n",
      "\n",
      "\n",
      "AdaBoostClassifier\n",
      "Model train performance\n",
      "accuracy :  0.9276410998552822\n",
      "confusion matrix :  [[1075  108]\n",
      " [  92 1489]]\n",
      "===================================\n",
      "\n",
      "\n",
      "GradientBoostingClassifier\n",
      "Model train performance\n",
      "accuracy :  0.9464544138929089\n",
      "confusion matrix :  [[1102   81]\n",
      " [  67 1514]]\n",
      "===================================\n",
      "\n",
      "\n",
      "XGBClassifier\n",
      "Model train performance\n",
      "accuracy :  0.9688856729377714\n",
      "confusion matrix :  [[1129   54]\n",
      " [  32 1549]]\n",
      "===================================\n",
      "\n",
      "\n"
     ]
    }
   ],
   "source": [
    "accuracy,model_list = model_trainer(x_train,x_test,y_train,y_test)"
   ]
  },
  {
   "cell_type": "code",
   "execution_count": 13,
   "metadata": {},
   "outputs": [
    {
     "data": {
      "text/html": [
       "<div>\n",
       "<style scoped>\n",
       "    .dataframe tbody tr th:only-of-type {\n",
       "        vertical-align: middle;\n",
       "    }\n",
       "\n",
       "    .dataframe tbody tr th {\n",
       "        vertical-align: top;\n",
       "    }\n",
       "\n",
       "    .dataframe thead th {\n",
       "        text-align: right;\n",
       "    }\n",
       "</style>\n",
       "<table border=\"1\" class=\"dataframe\">\n",
       "  <thead>\n",
       "    <tr style=\"text-align: right;\">\n",
       "      <th></th>\n",
       "      <th>Model_Name</th>\n",
       "      <th>Accuracy_Score</th>\n",
       "    </tr>\n",
       "  </thead>\n",
       "  <tbody>\n",
       "    <tr>\n",
       "      <th>8</th>\n",
       "      <td>XGBClassifier</td>\n",
       "      <td>0.968886</td>\n",
       "    </tr>\n",
       "    <tr>\n",
       "      <th>5</th>\n",
       "      <td>RandomForestClassifier</td>\n",
       "      <td>0.967077</td>\n",
       "    </tr>\n",
       "    <tr>\n",
       "      <th>1</th>\n",
       "      <td>DecisionTreeClassifier</td>\n",
       "      <td>0.954776</td>\n",
       "    </tr>\n",
       "    <tr>\n",
       "      <th>7</th>\n",
       "      <td>GradientBoostingClassifier</td>\n",
       "      <td>0.946454</td>\n",
       "    </tr>\n",
       "    <tr>\n",
       "      <th>2</th>\n",
       "      <td>SVC</td>\n",
       "      <td>0.943560</td>\n",
       "    </tr>\n",
       "    <tr>\n",
       "      <th>6</th>\n",
       "      <td>AdaBoostClassifier</td>\n",
       "      <td>0.927641</td>\n",
       "    </tr>\n",
       "    <tr>\n",
       "      <th>0</th>\n",
       "      <td>LogisticRegression</td>\n",
       "      <td>0.921852</td>\n",
       "    </tr>\n",
       "    <tr>\n",
       "      <th>3</th>\n",
       "      <td>GaussianNB</td>\n",
       "      <td>0.582489</td>\n",
       "    </tr>\n",
       "    <tr>\n",
       "      <th>4</th>\n",
       "      <td>GaussianMixture</td>\n",
       "      <td>0.428003</td>\n",
       "    </tr>\n",
       "  </tbody>\n",
       "</table>\n",
       "</div>"
      ],
      "text/plain": [
       "                   Model_Name  Accuracy_Score\n",
       "8               XGBClassifier        0.968886\n",
       "5      RandomForestClassifier        0.967077\n",
       "1      DecisionTreeClassifier        0.954776\n",
       "7  GradientBoostingClassifier        0.946454\n",
       "2                         SVC        0.943560\n",
       "6          AdaBoostClassifier        0.927641\n",
       "0          LogisticRegression        0.921852\n",
       "3                  GaussianNB        0.582489\n",
       "4             GaussianMixture        0.428003"
      ]
     },
     "execution_count": 13,
     "metadata": {},
     "output_type": "execute_result"
    }
   ],
   "source": [
    "\n",
    "pd.DataFrame(list(zip(model_list,accuracy)),columns=['Model_Name','Accuracy_Score']).sort_values(by=['Accuracy_Score'],ascending=False)"
   ]
  },
  {
   "cell_type": "code",
   "execution_count": 14,
   "metadata": {},
   "outputs": [],
   "source": [
    "clf = XGBClassifier()\n",
    "clf.fit(x_train,y_train)\n",
    "importance = clf.feature_importances_"
   ]
  },
  {
   "cell_type": "code",
   "execution_count": 22,
   "metadata": {},
   "outputs": [
    {
     "name": "stdout",
     "output_type": "stream",
     "text": [
      "Fitting 5 folds for each of 16 candidates, totalling 80 fits\n",
      "XGBClassifier(base_score=None, booster=None, callbacks=None,\n",
      "              colsample_bylevel=None, colsample_bynode=None,\n",
      "              colsample_bytree=None, device=None, early_stopping_rounds=None,\n",
      "              enable_categorical=False, eta=0.3, eval_metric=None,\n",
      "              feature_types=None, feature_weights=None, gamma=3,\n",
      "              grow_policy=None, importance_type=None,\n",
      "              interaction_constraints=None, learning_rate=None, max_bin=None,\n",
      "              max_cat_threshold=None, max_cat_to_onehot=None,\n",
      "              max_delta_step=None, max_depth=None, max_leaves=None,\n",
      "              min_child_weight=None, missing=nan, monotone_constraints=None,\n",
      "              multi_strategy=None, n_estimators=None, n_jobs=None, ...)\n",
      "{'eta': 0.3, 'gamma': 3}\n"
     ]
    }
   ],
   "source": [
    "para = {\n",
    "        'eta':[0.1,0.3,0.5,0.7],\n",
    "        'gamma':[3,5,7,11]\n",
    "    }\n",
    "\n",
    "best_estimator,best_params = hyper_tuning(clf,param_grid=para,x_train=x_train,y_train=y_train)\n",
    "print(best_estimator)\n",
    "print(best_params)"
   ]
  },
  {
   "cell_type": "code",
   "execution_count": 16,
   "metadata": {},
   "outputs": [
    {
     "name": "stdout",
     "output_type": "stream",
     "text": [
      "0.9551374819102749\n"
     ]
    }
   ],
   "source": [
    "best_estimator.fit(x_train,y_train)\n",
    "y_pred = best_estimator.predict(x_test)\n",
    "print(accuracy_score(y_test,y_pred))"
   ]
  },
  {
   "cell_type": "code",
   "execution_count": 17,
   "metadata": {},
   "outputs": [
    {
     "data": {
      "text/plain": [
       "array([ 7, 13,  5, 15, 25, 27,  2, 14, 24,  6,  1, 11, 28, 19, 21, 12, 16,\n",
       "        0, 10, 26, 23,  4, 22,  9,  8, 18, 20, 17, 29,  3], dtype=int64)"
      ]
     },
     "execution_count": 17,
     "metadata": {},
     "output_type": "execute_result"
    }
   ],
   "source": [
    "indices = np.argsort(importance)[::-1]\n",
    "indices"
   ]
  },
  {
   "cell_type": "code",
   "execution_count": 18,
   "metadata": {},
   "outputs": [
    {
     "data": {
      "text/plain": [
       "array([0.38610667, 0.17480327, 0.12622339, 0.02907251, 0.02355826,\n",
       "       0.01877411, 0.01606925, 0.01599344, 0.0158567 , 0.0144326 ,\n",
       "       0.01418748, 0.01340072, 0.01243067, 0.01208764, 0.0112914 ,\n",
       "       0.01071466, 0.01006582, 0.00935732, 0.00923568, 0.00882468,\n",
       "       0.0086695 , 0.00815596, 0.00789439, 0.00787277, 0.00726056,\n",
       "       0.00624543, 0.00606587, 0.00528935, 0.00520262, 0.0048573 ],\n",
       "      dtype=float32)"
      ]
     },
     "execution_count": 18,
     "metadata": {},
     "output_type": "execute_result"
    }
   ],
   "source": [
    "importance[indices]"
   ]
  },
  {
   "cell_type": "code",
   "execution_count": 19,
   "metadata": {},
   "outputs": [
    {
     "data": {
      "image/png": "[encoded data removed]",
      "text/plain": [
       "<Figure size 2000x1000 with 1 Axes>"
      ]
     },
     "metadata": {},
     "output_type": "display_data"
    }
   ],
   "source": [
    "importances = clf.feature_importances_\n",
    "indices = np.argsort(importances)[::-1]\n",
    "plt.figure(figsize=(20, 10))\n",
    "plt.title(\"Feature Importance - Random Forest\")\n",
    "plt.bar(range(X.shape[1]), importances[indices], align=\"center\")\n",
    "plt.xticks(range(X.shape[1]), [df.columns[i] for i in indices], rotation=90)\n",
    "plt.xlabel(\"Features\")\n",
    "plt.ylabel(\"Importance\")\n",
    "plt.show()"
   ]
  },
  {
   "cell_type": "code",
   "execution_count": null,
   "metadata": {},
   "outputs": [],
   "source": []
  },
  {
   "cell_type": "markdown",
   "metadata": {},
   "source": [
    "### From here plane of attack - \n",
    "\n",
    "> 1. HyperParameter Tuning \n",
    "> 2. Add some pipelines functios for handing missing values\n",
    "> 3. Fetch the features from the url so that prediction can be performed  \n",
    ">     - thoda sa sar dard krega ye 🤦‍♂️🤦\n",
    "\n",
    "```bash\n",
    "4.   Construct the project into Modular coding \n",
    "5.   Deployemant \n",
    "\n",
    "```\n"
   ]
  },
  {
   "cell_type": "markdown",
   "metadata": {},
   "source": [
    "``` bash\n",
    "With Hyperparameter tuning "
   ]
  },
  {
   "cell_type": "code",
   "execution_count": 24,
   "metadata": {},
   "outputs": [],
   "source": [
    "def model_trainer(x_train,x_test,y_train,y_test,params):\n",
    "    accuracy = []\n",
    "    model_list = []\n",
    "    for i in range(len(list(models))):\n",
    "        model = list(models.values())[i]\n",
    "        param = params[list(params.keys())[i]] \n",
    "        gs = GridSearchCV(model,param,cv=3)\n",
    "        gs.fit(x_train,y_train)\n",
    "\n",
    "        model.set_params(**gs.best_params_)\n",
    "        model.fit(x_train,y_train)\n",
    "\n",
    "        y_pred = model.predict(x_test)\n",
    "        accu_score,conf_martix,_ = model_evaluation(y_test,y_pred)\n",
    "        print(list(models.keys())[i])\n",
    "        model_list.append(list(models.keys())[i])\n",
    "\n",
    "        print(\"Model train performance\")\n",
    "        print(\"accuracy : \",accu_score)\n",
    "        print(\"confusion matrix : \",conf_martix)\n",
    "\n",
    "        accuracy.append(accu_score)\n",
    "\n",
    "        print(\"=\"*35)\n",
    "        print(\"\\n\")\n",
    "\n",
    "    return accuracy,model_list\n",
    "\n",
    "        "
   ]
  },
  {
   "cell_type": "code",
   "execution_count": 25,
   "metadata": {},
   "outputs": [
    {
     "name": "stdout",
     "output_type": "stream",
     "text": [
      "LogisticRegression\n",
      "Model train performance\n",
      "accuracy :  0.9222141823444283\n",
      "confusion matrix :  [[1070  113]\n",
      " [ 102 1479]]\n",
      "===================================\n",
      "\n",
      "\n",
      "DecisionTreeClassifier\n",
      "Model train performance\n",
      "accuracy :  0.9627351664254703\n",
      "confusion matrix :  [[1121   62]\n",
      " [  41 1540]]\n",
      "===================================\n",
      "\n",
      "\n",
      "SVC\n",
      "Model train performance\n",
      "accuracy :  0.9540520984081042\n",
      "confusion matrix :  [[1108   75]\n",
      " [  52 1529]]\n",
      "===================================\n",
      "\n",
      "\n",
      "GaussianNB\n",
      "Model train performance\n",
      "accuracy :  0.5824891461649783\n",
      "confusion matrix :  [[1181    2]\n",
      " [1152  429]]\n",
      "===================================\n",
      "\n",
      "\n",
      "GaussianMixture\n",
      "Model train performance\n",
      "accuracy :  0.4280028943560058\n",
      "confusion matrix :  [[1183    0]\n",
      " [1581    0]]\n",
      "===================================\n",
      "\n",
      "\n",
      "RandomForestClassifier\n",
      "Model train performance\n",
      "accuracy :  0.9659913169319826\n",
      "confusion matrix :  [[1118   65]\n",
      " [  29 1552]]\n",
      "===================================\n",
      "\n",
      "\n",
      "AdaBoostClassifier\n",
      "Model train performance\n",
      "accuracy :  0.933068017366136\n",
      "confusion matrix :  [[1077  106]\n",
      " [  79 1502]]\n",
      "===================================\n",
      "\n",
      "\n",
      "GradientBoostingClassifier\n",
      "Model train performance\n",
      "accuracy :  0.9464544138929089\n",
      "confusion matrix :  [[1102   81]\n",
      " [  67 1514]]\n",
      "===================================\n",
      "\n",
      "\n",
      "XGBClassifier\n",
      "Model train performance\n",
      "accuracy :  0.9529667149059334\n",
      "confusion matrix :  [[1105   78]\n",
      " [  52 1529]]\n",
      "===================================\n",
      "\n",
      "\n"
     ]
    }
   ],
   "source": [
    "accuracy,model_list = model_trainer(x_train,x_test,y_train,y_test,params)"
   ]
  },
  {
   "cell_type": "code",
   "execution_count": 26,
   "metadata": {},
   "outputs": [
    {
     "data": {
      "text/html": [
       "<div>\n",
       "<style scoped>\n",
       "    .dataframe tbody tr th:only-of-type {\n",
       "        vertical-align: middle;\n",
       "    }\n",
       "\n",
       "    .dataframe tbody tr th {\n",
       "        vertical-align: top;\n",
       "    }\n",
       "\n",
       "    .dataframe thead th {\n",
       "        text-align: right;\n",
       "    }\n",
       "</style>\n",
       "<table border=\"1\" class=\"dataframe\">\n",
       "  <thead>\n",
       "    <tr style=\"text-align: right;\">\n",
       "      <th></th>\n",
       "      <th>model_accuracy</th>\n",
       "      <th>model_list</th>\n",
       "    </tr>\n",
       "  </thead>\n",
       "  <tbody>\n",
       "    <tr>\n",
       "      <th>5</th>\n",
       "      <td>0.965991</td>\n",
       "      <td>RandomForestClassifier</td>\n",
       "    </tr>\n",
       "    <tr>\n",
       "      <th>1</th>\n",
       "      <td>0.962735</td>\n",
       "      <td>DecisionTreeClassifier</td>\n",
       "    </tr>\n",
       "    <tr>\n",
       "      <th>2</th>\n",
       "      <td>0.954052</td>\n",
       "      <td>SVC</td>\n",
       "    </tr>\n",
       "    <tr>\n",
       "      <th>8</th>\n",
       "      <td>0.952967</td>\n",
       "      <td>XGBClassifier</td>\n",
       "    </tr>\n",
       "    <tr>\n",
       "      <th>7</th>\n",
       "      <td>0.946454</td>\n",
       "      <td>GradientBoostingClassifier</td>\n",
       "    </tr>\n",
       "    <tr>\n",
       "      <th>6</th>\n",
       "      <td>0.933068</td>\n",
       "      <td>AdaBoostClassifier</td>\n",
       "    </tr>\n",
       "    <tr>\n",
       "      <th>0</th>\n",
       "      <td>0.922214</td>\n",
       "      <td>LogisticRegression</td>\n",
       "    </tr>\n",
       "    <tr>\n",
       "      <th>3</th>\n",
       "      <td>0.582489</td>\n",
       "      <td>GaussianNB</td>\n",
       "    </tr>\n",
       "    <tr>\n",
       "      <th>4</th>\n",
       "      <td>0.428003</td>\n",
       "      <td>GaussianMixture</td>\n",
       "    </tr>\n",
       "  </tbody>\n",
       "</table>\n",
       "</div>"
      ],
      "text/plain": [
       "   model_accuracy                  model_list\n",
       "5        0.965991      RandomForestClassifier\n",
       "1        0.962735      DecisionTreeClassifier\n",
       "2        0.954052                         SVC\n",
       "8        0.952967               XGBClassifier\n",
       "7        0.946454  GradientBoostingClassifier\n",
       "6        0.933068          AdaBoostClassifier\n",
       "0        0.922214          LogisticRegression\n",
       "3        0.582489                  GaussianNB\n",
       "4        0.428003             GaussianMixture"
      ]
     },
     "execution_count": 26,
     "metadata": {},
     "output_type": "execute_result"
    }
   ],
   "source": [
    "pd.DataFrame(list(zip(accuracy,model_list)),columns=['model_accuracy','model_list']).sort_values(by=['model_accuracy'],ascending=False)"
   ]
  },
  {
   "cell_type": "markdown",
   "metadata": {},
   "source": [
    "> ## Feature Selection  \n",
    "\n"
   ]
  },
  {
   "cell_type": "code",
   "execution_count": 33,
   "metadata": {},
   "outputs": [
    {
     "data": {
      "text/html": [
       "<div>\n",
       "<style scoped>\n",
       "    .dataframe tbody tr th:only-of-type {\n",
       "        vertical-align: middle;\n",
       "    }\n",
       "\n",
       "    .dataframe tbody tr th {\n",
       "        vertical-align: top;\n",
       "    }\n",
       "\n",
       "    .dataframe thead th {\n",
       "        text-align: right;\n",
       "    }\n",
       "</style>\n",
       "<table border=\"1\" class=\"dataframe\">\n",
       "  <thead>\n",
       "    <tr style=\"text-align: right;\">\n",
       "      <th></th>\n",
       "      <th>having_IP_Address</th>\n",
       "      <th>URL_Length</th>\n",
       "      <th>Shortining_Service</th>\n",
       "      <th>having_At_Symbol</th>\n",
       "      <th>double_slash_redirecting</th>\n",
       "      <th>Prefix_Suffix</th>\n",
       "      <th>having_Sub_Domain</th>\n",
       "      <th>SSLfinal_State</th>\n",
       "      <th>Domain_registeration_length</th>\n",
       "      <th>Favicon</th>\n",
       "      <th>...</th>\n",
       "      <th>popUpWidnow</th>\n",
       "      <th>Iframe</th>\n",
       "      <th>age_of_domain</th>\n",
       "      <th>DNSRecord</th>\n",
       "      <th>web_traffic</th>\n",
       "      <th>Page_Rank</th>\n",
       "      <th>Google_Index</th>\n",
       "      <th>Links_pointing_to_page</th>\n",
       "      <th>Statistical_report</th>\n",
       "      <th>Result</th>\n",
       "    </tr>\n",
       "  </thead>\n",
       "  <tbody>\n",
       "    <tr>\n",
       "      <th>0</th>\n",
       "      <td>-1</td>\n",
       "      <td>1</td>\n",
       "      <td>1</td>\n",
       "      <td>1</td>\n",
       "      <td>-1</td>\n",
       "      <td>-1</td>\n",
       "      <td>-1</td>\n",
       "      <td>-1</td>\n",
       "      <td>-1</td>\n",
       "      <td>1</td>\n",
       "      <td>...</td>\n",
       "      <td>1</td>\n",
       "      <td>1</td>\n",
       "      <td>-1</td>\n",
       "      <td>-1</td>\n",
       "      <td>-1</td>\n",
       "      <td>-1</td>\n",
       "      <td>1</td>\n",
       "      <td>1</td>\n",
       "      <td>-1</td>\n",
       "      <td>-1</td>\n",
       "    </tr>\n",
       "    <tr>\n",
       "      <th>1</th>\n",
       "      <td>1</td>\n",
       "      <td>1</td>\n",
       "      <td>1</td>\n",
       "      <td>1</td>\n",
       "      <td>1</td>\n",
       "      <td>-1</td>\n",
       "      <td>0</td>\n",
       "      <td>1</td>\n",
       "      <td>-1</td>\n",
       "      <td>1</td>\n",
       "      <td>...</td>\n",
       "      <td>1</td>\n",
       "      <td>1</td>\n",
       "      <td>-1</td>\n",
       "      <td>-1</td>\n",
       "      <td>0</td>\n",
       "      <td>-1</td>\n",
       "      <td>1</td>\n",
       "      <td>1</td>\n",
       "      <td>1</td>\n",
       "      <td>-1</td>\n",
       "    </tr>\n",
       "    <tr>\n",
       "      <th>2</th>\n",
       "      <td>1</td>\n",
       "      <td>0</td>\n",
       "      <td>1</td>\n",
       "      <td>1</td>\n",
       "      <td>1</td>\n",
       "      <td>-1</td>\n",
       "      <td>-1</td>\n",
       "      <td>-1</td>\n",
       "      <td>-1</td>\n",
       "      <td>1</td>\n",
       "      <td>...</td>\n",
       "      <td>1</td>\n",
       "      <td>1</td>\n",
       "      <td>1</td>\n",
       "      <td>-1</td>\n",
       "      <td>1</td>\n",
       "      <td>-1</td>\n",
       "      <td>1</td>\n",
       "      <td>0</td>\n",
       "      <td>-1</td>\n",
       "      <td>-1</td>\n",
       "    </tr>\n",
       "    <tr>\n",
       "      <th>3</th>\n",
       "      <td>1</td>\n",
       "      <td>0</td>\n",
       "      <td>1</td>\n",
       "      <td>1</td>\n",
       "      <td>1</td>\n",
       "      <td>-1</td>\n",
       "      <td>-1</td>\n",
       "      <td>-1</td>\n",
       "      <td>1</td>\n",
       "      <td>1</td>\n",
       "      <td>...</td>\n",
       "      <td>1</td>\n",
       "      <td>1</td>\n",
       "      <td>-1</td>\n",
       "      <td>-1</td>\n",
       "      <td>1</td>\n",
       "      <td>-1</td>\n",
       "      <td>1</td>\n",
       "      <td>-1</td>\n",
       "      <td>1</td>\n",
       "      <td>-1</td>\n",
       "    </tr>\n",
       "    <tr>\n",
       "      <th>4</th>\n",
       "      <td>1</td>\n",
       "      <td>0</td>\n",
       "      <td>-1</td>\n",
       "      <td>1</td>\n",
       "      <td>1</td>\n",
       "      <td>-1</td>\n",
       "      <td>1</td>\n",
       "      <td>1</td>\n",
       "      <td>-1</td>\n",
       "      <td>1</td>\n",
       "      <td>...</td>\n",
       "      <td>-1</td>\n",
       "      <td>1</td>\n",
       "      <td>-1</td>\n",
       "      <td>-1</td>\n",
       "      <td>0</td>\n",
       "      <td>-1</td>\n",
       "      <td>1</td>\n",
       "      <td>1</td>\n",
       "      <td>1</td>\n",
       "      <td>1</td>\n",
       "    </tr>\n",
       "  </tbody>\n",
       "</table>\n",
       "<p>5 rows × 31 columns</p>\n",
       "</div>"
      ],
      "text/plain": [
       "   having_IP_Address  URL_Length  Shortining_Service  having_At_Symbol  \\\n",
       "0                 -1           1                   1                 1   \n",
       "1                  1           1                   1                 1   \n",
       "2                  1           0                   1                 1   \n",
       "3                  1           0                   1                 1   \n",
       "4                  1           0                  -1                 1   \n",
       "\n",
       "   double_slash_redirecting  Prefix_Suffix  having_Sub_Domain  SSLfinal_State  \\\n",
       "0                        -1             -1                 -1              -1   \n",
       "1                         1             -1                  0               1   \n",
       "2                         1             -1                 -1              -1   \n",
       "3                         1             -1                 -1              -1   \n",
       "4                         1             -1                  1               1   \n",
       "\n",
       "   Domain_registeration_length  Favicon  ...  popUpWidnow  Iframe  \\\n",
       "0                           -1        1  ...            1       1   \n",
       "1                           -1        1  ...            1       1   \n",
       "2                           -1        1  ...            1       1   \n",
       "3                            1        1  ...            1       1   \n",
       "4                           -1        1  ...           -1       1   \n",
       "\n",
       "   age_of_domain  DNSRecord  web_traffic  Page_Rank  Google_Index  \\\n",
       "0             -1         -1           -1         -1             1   \n",
       "1             -1         -1            0         -1             1   \n",
       "2              1         -1            1         -1             1   \n",
       "3             -1         -1            1         -1             1   \n",
       "4             -1         -1            0         -1             1   \n",
       "\n",
       "   Links_pointing_to_page  Statistical_report  Result  \n",
       "0                       1                  -1      -1  \n",
       "1                       1                   1      -1  \n",
       "2                       0                  -1      -1  \n",
       "3                      -1                   1      -1  \n",
       "4                       1                   1       1  \n",
       "\n",
       "[5 rows x 31 columns]"
      ]
     },
     "execution_count": 33,
     "metadata": {},
     "output_type": "execute_result"
    }
   ],
   "source": [
    "data = pd.read_csv(\"phishing_data/NetworkData.csv\")\n",
    "data.head()"
   ]
  },
  {
   "cell_type": "code",
   "execution_count": 45,
   "metadata": {},
   "outputs": [],
   "source": [
    "new_data = data.drop(columns=['having_At_Symbol','Statistical_report','Abnormal_URL','RightClick','Redirect','Domain_registeration_length','Favicon','Iframe','Page_Rank','port','age_of_domain'],axis=1)"
   ]
  },
  {
   "cell_type": "code",
   "execution_count": 46,
   "metadata": {},
   "outputs": [
    {
     "data": {
      "text/html": [
       "<div>\n",
       "<style scoped>\n",
       "    .dataframe tbody tr th:only-of-type {\n",
       "        vertical-align: middle;\n",
       "    }\n",
       "\n",
       "    .dataframe tbody tr th {\n",
       "        vertical-align: top;\n",
       "    }\n",
       "\n",
       "    .dataframe thead th {\n",
       "        text-align: right;\n",
       "    }\n",
       "</style>\n",
       "<table border=\"1\" class=\"dataframe\">\n",
       "  <thead>\n",
       "    <tr style=\"text-align: right;\">\n",
       "      <th></th>\n",
       "      <th>having_IP_Address</th>\n",
       "      <th>URL_Length</th>\n",
       "      <th>Shortining_Service</th>\n",
       "      <th>double_slash_redirecting</th>\n",
       "      <th>Prefix_Suffix</th>\n",
       "      <th>having_Sub_Domain</th>\n",
       "      <th>SSLfinal_State</th>\n",
       "      <th>HTTPS_token</th>\n",
       "      <th>Request_URL</th>\n",
       "      <th>URL_of_Anchor</th>\n",
       "      <th>Links_in_tags</th>\n",
       "      <th>SFH</th>\n",
       "      <th>Submitting_to_email</th>\n",
       "      <th>on_mouseover</th>\n",
       "      <th>popUpWidnow</th>\n",
       "      <th>DNSRecord</th>\n",
       "      <th>web_traffic</th>\n",
       "      <th>Google_Index</th>\n",
       "      <th>Links_pointing_to_page</th>\n",
       "      <th>Result</th>\n",
       "    </tr>\n",
       "  </thead>\n",
       "  <tbody>\n",
       "    <tr>\n",
       "      <th>0</th>\n",
       "      <td>-1</td>\n",
       "      <td>1</td>\n",
       "      <td>1</td>\n",
       "      <td>-1</td>\n",
       "      <td>-1</td>\n",
       "      <td>-1</td>\n",
       "      <td>-1</td>\n",
       "      <td>-1</td>\n",
       "      <td>1</td>\n",
       "      <td>-1</td>\n",
       "      <td>1</td>\n",
       "      <td>-1</td>\n",
       "      <td>-1</td>\n",
       "      <td>1</td>\n",
       "      <td>1</td>\n",
       "      <td>-1</td>\n",
       "      <td>-1</td>\n",
       "      <td>1</td>\n",
       "      <td>1</td>\n",
       "      <td>-1</td>\n",
       "    </tr>\n",
       "    <tr>\n",
       "      <th>1</th>\n",
       "      <td>1</td>\n",
       "      <td>1</td>\n",
       "      <td>1</td>\n",
       "      <td>1</td>\n",
       "      <td>-1</td>\n",
       "      <td>0</td>\n",
       "      <td>1</td>\n",
       "      <td>-1</td>\n",
       "      <td>1</td>\n",
       "      <td>0</td>\n",
       "      <td>-1</td>\n",
       "      <td>-1</td>\n",
       "      <td>1</td>\n",
       "      <td>1</td>\n",
       "      <td>1</td>\n",
       "      <td>-1</td>\n",
       "      <td>0</td>\n",
       "      <td>1</td>\n",
       "      <td>1</td>\n",
       "      <td>-1</td>\n",
       "    </tr>\n",
       "    <tr>\n",
       "      <th>2</th>\n",
       "      <td>1</td>\n",
       "      <td>0</td>\n",
       "      <td>1</td>\n",
       "      <td>1</td>\n",
       "      <td>-1</td>\n",
       "      <td>-1</td>\n",
       "      <td>-1</td>\n",
       "      <td>-1</td>\n",
       "      <td>1</td>\n",
       "      <td>0</td>\n",
       "      <td>-1</td>\n",
       "      <td>-1</td>\n",
       "      <td>-1</td>\n",
       "      <td>1</td>\n",
       "      <td>1</td>\n",
       "      <td>-1</td>\n",
       "      <td>1</td>\n",
       "      <td>1</td>\n",
       "      <td>0</td>\n",
       "      <td>-1</td>\n",
       "    </tr>\n",
       "    <tr>\n",
       "      <th>3</th>\n",
       "      <td>1</td>\n",
       "      <td>0</td>\n",
       "      <td>1</td>\n",
       "      <td>1</td>\n",
       "      <td>-1</td>\n",
       "      <td>-1</td>\n",
       "      <td>-1</td>\n",
       "      <td>-1</td>\n",
       "      <td>-1</td>\n",
       "      <td>0</td>\n",
       "      <td>0</td>\n",
       "      <td>-1</td>\n",
       "      <td>1</td>\n",
       "      <td>1</td>\n",
       "      <td>1</td>\n",
       "      <td>-1</td>\n",
       "      <td>1</td>\n",
       "      <td>1</td>\n",
       "      <td>-1</td>\n",
       "      <td>-1</td>\n",
       "    </tr>\n",
       "    <tr>\n",
       "      <th>4</th>\n",
       "      <td>1</td>\n",
       "      <td>0</td>\n",
       "      <td>-1</td>\n",
       "      <td>1</td>\n",
       "      <td>-1</td>\n",
       "      <td>1</td>\n",
       "      <td>1</td>\n",
       "      <td>1</td>\n",
       "      <td>1</td>\n",
       "      <td>0</td>\n",
       "      <td>0</td>\n",
       "      <td>-1</td>\n",
       "      <td>1</td>\n",
       "      <td>-1</td>\n",
       "      <td>-1</td>\n",
       "      <td>-1</td>\n",
       "      <td>0</td>\n",
       "      <td>1</td>\n",
       "      <td>1</td>\n",
       "      <td>1</td>\n",
       "    </tr>\n",
       "  </tbody>\n",
       "</table>\n",
       "</div>"
      ],
      "text/plain": [
       "   having_IP_Address  URL_Length  Shortining_Service  \\\n",
       "0                 -1           1                   1   \n",
       "1                  1           1                   1   \n",
       "2                  1           0                   1   \n",
       "3                  1           0                   1   \n",
       "4                  1           0                  -1   \n",
       "\n",
       "   double_slash_redirecting  Prefix_Suffix  having_Sub_Domain  SSLfinal_State  \\\n",
       "0                        -1             -1                 -1              -1   \n",
       "1                         1             -1                  0               1   \n",
       "2                         1             -1                 -1              -1   \n",
       "3                         1             -1                 -1              -1   \n",
       "4                         1             -1                  1               1   \n",
       "\n",
       "   HTTPS_token  Request_URL  URL_of_Anchor  Links_in_tags  SFH  \\\n",
       "0           -1            1             -1              1   -1   \n",
       "1           -1            1              0             -1   -1   \n",
       "2           -1            1              0             -1   -1   \n",
       "3           -1           -1              0              0   -1   \n",
       "4            1            1              0              0   -1   \n",
       "\n",
       "   Submitting_to_email  on_mouseover  popUpWidnow  DNSRecord  web_traffic  \\\n",
       "0                   -1             1            1         -1           -1   \n",
       "1                    1             1            1         -1            0   \n",
       "2                   -1             1            1         -1            1   \n",
       "3                    1             1            1         -1            1   \n",
       "4                    1            -1           -1         -1            0   \n",
       "\n",
       "   Google_Index  Links_pointing_to_page  Result  \n",
       "0             1                       1      -1  \n",
       "1             1                       1      -1  \n",
       "2             1                       0      -1  \n",
       "3             1                      -1      -1  \n",
       "4             1                       1       1  "
      ]
     },
     "execution_count": 46,
     "metadata": {},
     "output_type": "execute_result"
    }
   ],
   "source": [
    "new_data.head()"
   ]
  },
  {
   "cell_type": "code",
   "execution_count": 47,
   "metadata": {},
   "outputs": [],
   "source": [
    "X,y = new_data.drop(columns=['Result'],axis= 1),new_data['Result'].replace(-1,0)"
   ]
  },
  {
   "cell_type": "code",
   "execution_count": 48,
   "metadata": {},
   "outputs": [],
   "source": [
    "train_x,test_x,train_y,test_y =  train_test_split(X,y,test_size=0.25,random_state=2)"
   ]
  },
  {
   "cell_type": "code",
   "execution_count": 49,
   "metadata": {},
   "outputs": [
    {
     "name": "stdout",
     "output_type": "stream",
     "text": [
      "0.9634587554269175\n"
     ]
    }
   ],
   "source": [
    "clf = XGBClassifier()\n",
    "clf.fit(train_x,train_y)\n",
    "y_pred = clf.predict(test_x)\n",
    "print(accuracy_score(test_y,y_pred))"
   ]
  },
  {
   "cell_type": "markdown",
   "metadata": {},
   "source": [
    "```bash\n",
    "'Feature Selection' has increased the accuracy of the model \n",
    "\n",
    "1. By Droping 8 features , improved accuracy - 0.9692474674384949\n",
    "2. By Droping 11 features ,  accuracy - 0.9634587554269175 \n",
    "```"
   ]
  },
  {
   "cell_type": "code",
   "execution_count": 7,
   "metadata": {},
   "outputs": [
    {
     "name": "stdout",
     "output_type": "stream",
     "text": [
      "0.9688856729377714\n"
     ]
    }
   ],
   "source": [
    "xgb = XGBClassifier()\n",
    "xgb.fit(x_train,y_train)\n",
    "y_pred = xgb.predict(x_test)\n",
    "print(accuracy_score(y_test,y_pred))"
   ]
  },
  {
   "cell_type": "code",
   "execution_count": 82,
   "metadata": {},
   "outputs": [
    {
     "data": {
      "text/plain": [
       "array([0])"
      ]
     },
     "execution_count": 82,
     "metadata": {},
     "output_type": "execute_result"
    }
   ],
   "source": [
    "xgb.predict([[1,  1,  1,  1, -1, -1, -1, -1, -1,  1,  1, -1,  1, -1,  1, -1, -1,\n",
    "       -1,  0,  1,  1,  1,  1, -1, -1, -1, -1,  1,  1, -1]])"
   ]
  },
  {
   "cell_type": "code",
   "execution_count": 25,
   "metadata": {},
   "outputs": [
    {
     "name": "stdout",
     "output_type": "stream",
     "text": [
      "0.9870944397539501\n"
     ]
    }
   ],
   "source": [
    "x_pred_train = xgb.predict(x_train)\n",
    "print(accuracy_score(y_train,x_pred_train))"
   ]
  },
  {
   "cell_type": "code",
   "execution_count": 70,
   "metadata": {},
   "outputs": [
    {
     "data": {
      "text/plain": [
       "Index(['having_IP_Address', 'URL_Length', 'Shortining_Service',\n",
       "       'having_At_Symbol', 'double_slash_redirecting', 'Prefix_Suffix',\n",
       "       'having_Sub_Domain', 'SSLfinal_State', 'Domain_registeration_length',\n",
       "       'Favicon', 'port', 'HTTPS_token', 'Request_URL', 'URL_of_Anchor',\n",
       "       'Links_in_tags', 'SFH', 'Submitting_to_email', 'Abnormal_URL',\n",
       "       'Redirect', 'on_mouseover', 'RightClick', 'popUpWidnow', 'Iframe',\n",
       "       'age_of_domain', 'DNSRecord', 'web_traffic', 'Page_Rank',\n",
       "       'Google_Index', 'Links_pointing_to_page', 'Statistical_report',\n",
       "       'Result'],\n",
       "      dtype='object')"
      ]
     },
     "execution_count": 70,
     "metadata": {},
     "output_type": "execute_result"
    }
   ],
   "source": [
    "df.columns"
   ]
  },
  {
   "cell_type": "code",
   "execution_count": 73,
   "metadata": {},
   "outputs": [],
   "source": [
    "new = df.drop(columns=['Statistical_report','Links_pointing_to_page','Google_Index','Page_Rank','web_traffic'],axis=1)"
   ]
  },
  {
   "cell_type": "code",
   "execution_count": 74,
   "metadata": {},
   "outputs": [
    {
     "data": {
      "text/plain": [
       "(11055, 26)"
      ]
     },
     "execution_count": 74,
     "metadata": {},
     "output_type": "execute_result"
    }
   ],
   "source": [
    "new.shape"
   ]
  },
  {
   "cell_type": "code",
   "execution_count": 79,
   "metadata": {},
   "outputs": [],
   "source": [
    "x = new.drop(columns=['Result'],axis=1)\n",
    "y = new['Result'].replace(-1,0)"
   ]
  },
  {
   "cell_type": "code",
   "execution_count": 76,
   "metadata": {},
   "outputs": [
    {
     "data": {
      "text/plain": [
       "((11055, 25), (11055,))"
      ]
     },
     "execution_count": 76,
     "metadata": {},
     "output_type": "execute_result"
    }
   ],
   "source": [
    "x.shape,y.shape"
   ]
  },
  {
   "cell_type": "code",
   "execution_count": 80,
   "metadata": {},
   "outputs": [],
   "source": [
    "train_x,test_x,train_y,test_y = train_test_split(x,y,test_size=0.25,random_state=42)"
   ]
  },
  {
   "cell_type": "code",
   "execution_count": 81,
   "metadata": {},
   "outputs": [
    {
     "name": "stdout",
     "output_type": "stream",
     "text": [
      "0.9500723589001447\n"
     ]
    }
   ],
   "source": [
    "cl = XGBClassifier()\n",
    "cl.fit(train_x,train_y)\n",
    "pred = cl.predict(test_x)\n",
    "print(accuracy_score(test_y,pred))"
   ]
  },
  {
   "cell_type": "code",
   "execution_count": null,
   "metadata": {},
   "outputs": [
    {
     "data": {
      "text/plain": [
       "array([1])"
      ]
     },
     "execution_count": 115,
     "metadata": {},
     "output_type": "execute_result"
    }
   ],
   "source": [
    "cl.predict([[1, 1, 1, 1, -1, -1, -1, -1, -1, 1, 1, -1, 1, 1, 1, 1, 1, -1, 1, 1, 1, 1, -1, -1, -1]])"
   ]
  },
  {
   "cell_type": "code",
   "execution_count": 97,
   "metadata": {},
   "outputs": [
    {
     "data": {
      "text/plain": [
       "array([ 1,  1,  1,  1,  1, -1,  0,  1, -1,  1,  1, -1,  1,  0, -1, -1,  1,\n",
       "        1,  0,  1,  1,  1,  1, -1, -1, -1])"
      ]
     },
     "execution_count": 97,
     "metadata": {},
     "output_type": "execute_result"
    }
   ],
   "source": [
    "new.iloc[1,:].values"
   ]
  },
  {
   "cell_type": "code",
   "execution_count": 109,
   "metadata": {},
   "outputs": [
    {
     "name": "stdout",
     "output_type": "stream",
     "text": [
      "Generated URL with all features: http://sub1.sub2.sub3.218.184.94.129:8080//xq5i8/ulztqrnheddl2ypvb5ltw48sv3x4fsvftx3txa6ggx3ocoipcomo4fy7l36v7jy8ew3za1fdu34/%20%3F%236eky2/https-secure?u=http%3A%2F%2Fexternal-site.com&l=mailto%3Aadmin%40k8vv4x.com&a=http%3A%2F%2Fcdn-service.net%2Fform&s=http%3A%2F%2Fthird-party.org%2Fscript.js&r=4&m=onmouseover%3Dalert%281%29&rc=disabled&p=popup%3D1&i=iframe%3D1&f=http%3A%2F%2Fexternal-site.com%2Ffavicon.ico\n"
     ]
    }
   ],
   "source": [
    "import random\n",
    "import string\n",
    "from datetime import datetime, timedelta\n",
    "\n",
    "class AdvancedURLGenerator:\n",
    "    def __init__(self):\n",
    "        self.base_domains = [\"secure\", \"account\", \"verify\", \"update\"]\n",
    "        self.tlds = [\".com\", \".net\", \".org\"]\n",
    "        self.external_domains = [\"external-site.com\", \"cdn-service.net\", \"third-party.org\"]\n",
    "        \n",
    "    def _random_string(self, length=10):\n",
    "        return ''.join(random.choices(string.ascii_lowercase + string.digits, k=length))\n",
    "\n",
    "    def generate_url_with_features(self):\n",
    "        \"\"\"Generates URL containing patterns for all 25 features\"\"\"\n",
    "        # Domain components\n",
    "        scheme = \"http://\"  # SSLfinal_State = -1\n",
    "        subdomains = \"sub1.sub2.sub3.\"  # having_Sub_Domain = -1\n",
    "        domain_root = f\"{random.choice(self.base_domains)}-portal\"  # Prefix_Suffix = -1\n",
    "        domain_tld = random.choice(self.tlds)\n",
    "        port = \":8080\"  # port = -1\n",
    "        \n",
    "        # Path components\n",
    "        double_slash = \"//\"  # double_slash_redirecting = -1\n",
    "        long_path = '/' + self._random_string(75)  # URL_Length = -1\n",
    "        abnormal_path = f\"/%20%3F%23{self._random_string(5)}\"  # Abnormal_URL = -1\n",
    "        https_token = \"/https-secure\"  # HTTPS_token = -1\n",
    "        \n",
    "        # Query parameters\n",
    "        params = {\n",
    "            'u': f\"http://{self.external_domains[0]}\",  # Request_URL = -1\n",
    "            'l': f\"mailto:admin@{self._random_string(6)}.com\",  # Submitting_to_email = -1\n",
    "            'a': f\"http://{self.external_domains[1]}/form\",  # SFH = -1\n",
    "            's': f\"http://{self.external_domains[2]}/script.js\",  # Links_in_tags = -1\n",
    "            'r': str(random.randint(3,5)),  # Redirect = -1\n",
    "            'm': \"onmouseover=alert(1)\",  # on_mouseover = -1\n",
    "            'rc': \"disabled\",  # RightClick = -1\n",
    "            'p': \"popup=1\",  # popUpWidnow = -1\n",
    "            'i': \"iframe=1\",  # Iframe = -1\n",
    "            'f': f\"http://{self.external_domains[0]}/favicon.ico\"  # Favicon = -1\n",
    "        }\n",
    "        \n",
    "        # Assemble URL components\n",
    "        url = (\n",
    "            f\"{scheme}{subdomains}{domain_root}{domain_tld}{port}\"\n",
    "            f\"{double_slash}{self._random_string(5)}\"\n",
    "            f\"{long_path}{abnormal_path}{https_token}\"\n",
    "            f\"?{urlencode(params)}\"\n",
    "        )\n",
    "        \n",
    "        # Add IP address pattern randomly\n",
    "        if random.choice([True, False]):  # having_IP_Address = -1\n",
    "            url = url.replace(domain_root + domain_tld, \n",
    "                            f\"{random.randint(1,255)}.{random.randint(1,255)}.\"\n",
    "                            f\"{random.randint(1,255)}.{random.randint(1,255)}\")\n",
    "        \n",
    "        # Add URL shortening service randomly\n",
    "        if random.choice([True, False]):  # Shortining_Service = -1\n",
    "            url = f\"https://bit.ly/{self._random_string(6)}\" + url.split('?')[1]\n",
    "        \n",
    "        # Add @ symbol randomly  # having_At_Symbol = -1\n",
    "        if random.choice([True, False]):\n",
    "            url = url.replace(\"://\", \"://legit@\")\n",
    "        \n",
    "        return url\n",
    "\n",
    "# Usage\n",
    "generator = AdvancedURLGenerator()\n",
    "test_url = generator.generate_url_with_features()\n",
    "print(\"Generated URL with all features:\", test_url)"
   ]
  },
  {
   "cell_type": "code",
   "execution_count": 107,
   "metadata": {},
   "outputs": [
    {
     "name": "stdout",
     "output_type": "stream",
     "text": [
      "Generated URL: https://bit.ly/gghYAKjvhttp://22.226.160.188\n"
     ]
    }
   ],
   "source": [
    "url = SuspiciousURLGenerator.generate_combined_suspicious_url()\n",
    "print(f\"Generated URL: {url}\")"
   ]
  },
  {
   "cell_type": "code",
   "execution_count": null,
   "metadata": {},
   "outputs": [],
   "source": []
  }
 ],
 "metadata": {
  "kernelspec": {
   "display_name": "Python 3",
   "language": "python",
   "name": "python3"
  },
  "language_info": {
   "codemirror_mode": {
    "name": "ipython",
    "version": 3
   },
   "file_extension": ".py",
   "mimetype": "text/x-python",
   "name": "python",
   "nbconvert_exporter": "python",
   "pygments_lexer": "ipython3",
   "version": "3.10.0"
  }
 },
 "nbformat": 4,
 "nbformat_minor": 2
}
